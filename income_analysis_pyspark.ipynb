{
 "cells": [
  {
   "cell_type": "markdown",
   "metadata": {},
   "source": [
    "### Spark Session Initiation"
   ]
  },
  {
   "cell_type": "code",
   "execution_count": 1,
   "metadata": {},
   "outputs": [],
   "source": [
    "from pyspark.sql import SparkSession"
   ]
  },
  {
   "cell_type": "code",
   "execution_count": 2,
   "metadata": {},
   "outputs": [],
   "source": [
    "spark = SparkSession.builder.appName(\"Cat-2-adult-Project\").getOrCreate()"
   ]
  },
  {
   "cell_type": "markdown",
   "metadata": {},
   "source": [
    "### Reading Data"
   ]
  },
  {
   "cell_type": "code",
   "execution_count": 3,
   "metadata": {},
   "outputs": [],
   "source": [
    "df=spark.read.csv(\"adult_data_new.csv\",header=True,inferSchema=True)"
   ]
  },
  {
   "cell_type": "code",
   "execution_count": 4,
   "metadata": {
    "scrolled": true
   },
   "outputs": [
    {
     "name": "stdout",
     "output_type": "stream",
     "text": [
      "+---+-----------------+------+-------------+-------------+--------------------+------------------+--------------+-------------------+-------+------------+------------+--------------+--------------+------+\n",
      "|age|        workclass|fnlwgt|    education|education_num|      marital_status|        occupation|  relationship|               race|    sex|capital_gain|capital_loss|hours_per_week|native_country|income|\n",
      "+---+-----------------+------+-------------+-------------+--------------------+------------------+--------------+-------------------+-------+------------+------------+--------------+--------------+------+\n",
      "| 39|        State-gov| 77516|    Bachelors|           13|       Never-married|      Adm-clerical| Not-in-family|              White|   Male|        2174|           0|            40| United-States| <=50K|\n",
      "| 50| Self-emp-not-inc| 83311|    Bachelors|           13|  Married-civ-spouse|   Exec-managerial|       Husband|              White|   Male|           0|           0|            13| United-States| <=50K|\n",
      "| 38|          Private|215646|      HS-grad|            9|            Divorced| Handlers-cleaners| Not-in-family|              White|   Male|           0|           0|            40| United-States| <=50K|\n",
      "| 53|          Private|234721|         11th|            7|  Married-civ-spouse| Handlers-cleaners|       Husband|              Black|   Male|           0|           0|            40| United-States| <=50K|\n",
      "| 28|          Private|338409|    Bachelors|           13|  Married-civ-spouse|    Prof-specialty|          Wife|              Black| Female|           0|           0|            40|          Cuba| <=50K|\n",
      "| 37|          Private|284582|      Masters|           14|  Married-civ-spouse|   Exec-managerial|          Wife|              White| Female|           0|           0|            40| United-States| <=50K|\n",
      "| 49|          Private|160187|          9th|            5| Married-spouse-a...|     Other-service| Not-in-family|              Black| Female|           0|           0|            16|       Jamaica| <=50K|\n",
      "| 52| Self-emp-not-inc|209642|      HS-grad|            9|  Married-civ-spouse|   Exec-managerial|       Husband|              White|   Male|           0|           0|            45| United-States|  >50K|\n",
      "| 31|          Private| 45781|      Masters|           14|       Never-married|    Prof-specialty| Not-in-family|              White| Female|       14084|           0|            50| United-States|  >50K|\n",
      "| 42|          Private|159449|    Bachelors|           13|  Married-civ-spouse|   Exec-managerial|       Husband|              White|   Male|        5178|           0|            40| United-States|  >50K|\n",
      "| 37|          Private|280464| Some-college|           10|  Married-civ-spouse|   Exec-managerial|       Husband|              Black|   Male|           0|           0|            80| United-States|  >50K|\n",
      "| 30|        State-gov|141297|    Bachelors|           13|  Married-civ-spouse|    Prof-specialty|       Husband| Asian-Pac-Islander|   Male|           0|           0|            40|         India|  >50K|\n",
      "| 23|          Private|122272|    Bachelors|           13|       Never-married|      Adm-clerical|     Own-child|              White| Female|           0|           0|            30| United-States| <=50K|\n",
      "| 32|          Private|205019|   Assoc-acdm|           12|       Never-married|             Sales| Not-in-family|              Black|   Male|           0|           0|            50| United-States| <=50K|\n",
      "| 40|          Private|121772|    Assoc-voc|           11|  Married-civ-spouse|      Craft-repair|       Husband| Asian-Pac-Islander|   Male|           0|           0|            40| United-States|  >50K|\n",
      "| 34|          Private|245487|      7th-8th|            4|  Married-civ-spouse|  Transport-moving|       Husband| Amer-Indian-Eskimo|   Male|           0|           0|            45|        Mexico| <=50K|\n",
      "| 25| Self-emp-not-inc|176756|      HS-grad|            9|       Never-married|   Farming-fishing|     Own-child|              White|   Male|           0|           0|            35| United-States| <=50K|\n",
      "| 32|          Private|186824|      HS-grad|            9|       Never-married| Machine-op-inspct|     Unmarried|              White|   Male|           0|           0|            40| United-States| <=50K|\n",
      "| 38|          Private| 28887|         11th|            7|  Married-civ-spouse|             Sales|       Husband|              White|   Male|           0|           0|            50| United-States| <=50K|\n",
      "| 43| Self-emp-not-inc|292175|      Masters|           14|            Divorced|   Exec-managerial|     Unmarried|              White| Female|           0|           0|            45| United-States|  >50K|\n",
      "+---+-----------------+------+-------------+-------------+--------------------+------------------+--------------+-------------------+-------+------------+------------+--------------+--------------+------+\n",
      "only showing top 20 rows\n",
      "\n"
     ]
    }
   ],
   "source": [
    "df.show()"
   ]
  },
  {
   "cell_type": "code",
   "execution_count": 5,
   "metadata": {},
   "outputs": [
    {
     "name": "stdout",
     "output_type": "stream",
     "text": [
      "root\n",
      " |-- age: integer (nullable = true)\n",
      " |-- workclass: string (nullable = true)\n",
      " |-- fnlwgt: integer (nullable = true)\n",
      " |-- education: string (nullable = true)\n",
      " |-- education_num: integer (nullable = true)\n",
      " |-- marital_status: string (nullable = true)\n",
      " |-- occupation: string (nullable = true)\n",
      " |-- relationship: string (nullable = true)\n",
      " |-- race: string (nullable = true)\n",
      " |-- sex: string (nullable = true)\n",
      " |-- capital_gain: integer (nullable = true)\n",
      " |-- capital_loss: integer (nullable = true)\n",
      " |-- hours_per_week: integer (nullable = true)\n",
      " |-- native_country: string (nullable = true)\n",
      " |-- income: string (nullable = true)\n",
      "\n"
     ]
    }
   ],
   "source": [
    "df.printSchema()"
   ]
  },
  {
   "cell_type": "code",
   "execution_count": 6,
   "metadata": {},
   "outputs": [
    {
     "name": "stdout",
     "output_type": "stream",
     "text": [
      "+-------+------------------+------------+------------------+-------------+-----------------+--------------+-----------------+------------+-------------------+-------+------------------+----------------+------------------+--------------+------+\n",
      "|summary|               age|   workclass|            fnlwgt|    education|    education_num|marital_status|       occupation|relationship|               race|    sex|      capital_gain|    capital_loss|    hours_per_week|native_country|income|\n",
      "+-------+------------------+------------+------------------+-------------+-----------------+--------------+-----------------+------------+-------------------+-------+------------------+----------------+------------------+--------------+------+\n",
      "|  count|             32561|       32561|             32561|        32561|            32561|         32561|            32561|       32561|              32561|  32561|             32561|           32561|             32561|         32561| 32561|\n",
      "|   mean| 38.58164675532078|        null|189778.36651208502|         null| 10.0806793403151|          null|             null|        null|               null|   null|1077.6488437087312| 87.303829734959|40.437455852092995|          null|  null|\n",
      "| stddev|13.640432553581356|        null|105549.97769702227|         null|2.572720332067397|          null|             null|        null|               null|   null| 7385.292084840354|402.960218649002|12.347428681731838|          null|  null|\n",
      "|    min|                17| Federal-gov|             12285|         10th|                1|      Divorced|     Adm-clerical|     Husband| Amer-Indian-Eskimo| Female|                 0|               0|                 1|      Cambodia| <=50K|\n",
      "|    max|                90| Without-pay|           1484705| Some-college|               16|       Widowed| Transport-moving|        Wife|              White|   Male|             99999|            4356|                99|    Yugoslavia|  >50K|\n",
      "+-------+------------------+------------+------------------+-------------+-----------------+--------------+-----------------+------------+-------------------+-------+------------------+----------------+------------------+--------------+------+\n",
      "\n"
     ]
    }
   ],
   "source": [
    "des=df.describe()\n",
    "des.show()"
   ]
  },
  {
   "cell_type": "markdown",
   "metadata": {},
   "source": [
    "### Exploratory data analysis using SQL queries"
   ]
  },
  {
   "cell_type": "code",
   "execution_count": 7,
   "metadata": {},
   "outputs": [],
   "source": [
    "df.createOrReplaceTempView(\"adultdata\")"
   ]
  },
  {
   "cell_type": "code",
   "execution_count": 8,
   "metadata": {},
   "outputs": [],
   "source": [
    "result1=spark.sql(\"SELECT workclass, avg(capital_gain) FROM adultdata GROUP BY workclass\")"
   ]
  },
  {
   "cell_type": "code",
   "execution_count": 9,
   "metadata": {},
   "outputs": [
    {
     "name": "stdout",
     "output_type": "stream",
     "text": [
      "+-----------------+------------------+\n",
      "|        workclass| avg(capital_gain)|\n",
      "+-----------------+------------------+\n",
      "|        State-gov| 701.6995377503852|\n",
      "|      Federal-gov| 833.2322916666667|\n",
      "| Self-emp-not-inc|1886.0617866981504|\n",
      "|        Local-gov|  880.202580028667|\n",
      "|          Private| 868.0810370128811|\n",
      "|     Self-emp-inc| 4875.693548387097|\n",
      "|      Without-pay|487.85714285714283|\n",
      "|     Never-worked|               0.0|\n",
      "+-----------------+------------------+\n",
      "\n"
     ]
    }
   ],
   "source": [
    "result1.show()"
   ]
  },
  {
   "cell_type": "code",
   "execution_count": 10,
   "metadata": {},
   "outputs": [],
   "source": [
    "result2=spark.sql(\"SELECT workclass, avg(hours_per_week), avg(capital_loss),avg(capital_gain) FROM adultdata GROUP BY workclass\")"
   ]
  },
  {
   "cell_type": "code",
   "execution_count": 11,
   "metadata": {},
   "outputs": [
    {
     "name": "stdout",
     "output_type": "stream",
     "text": [
      "+-----------------+-------------------+------------------+------------------+\n",
      "|        workclass|avg(hours_per_week)| avg(capital_loss)| avg(capital_gain)|\n",
      "+-----------------+-------------------+------------------+------------------+\n",
      "|        State-gov|  39.03158705701079| 83.25654853620955| 701.6995377503852|\n",
      "|      Federal-gov|  41.37916666666667|         112.26875| 833.2322916666667|\n",
      "| Self-emp-not-inc| 44.421881149153876|116.63164108618655|1886.0617866981504|\n",
      "|        Local-gov|  40.98279980888677|109.85427615862399|  880.202580028667|\n",
      "|          Private|  39.64234469264634| 78.56815587803685| 868.0810370128811|\n",
      "|     Self-emp-inc|  48.81810035842294|155.13888888888889| 4875.693548387097|\n",
      "|      Without-pay| 32.714285714285715|               0.0|487.85714285714283|\n",
      "|     Never-worked| 28.428571428571427|               0.0|               0.0|\n",
      "+-----------------+-------------------+------------------+------------------+\n",
      "\n"
     ]
    }
   ],
   "source": [
    "result2.show()"
   ]
  },
  {
   "cell_type": "code",
   "execution_count": 12,
   "metadata": {},
   "outputs": [],
   "source": [
    "result3=spark.sql(\"SELECT income,avg(hours_per_week), avg(capital_loss),avg(capital_gain) FROM adultdata GROUP BY income\")"
   ]
  },
  {
   "cell_type": "code",
   "execution_count": 13,
   "metadata": {},
   "outputs": [
    {
     "name": "stdout",
     "output_type": "stream",
     "text": [
      "+------+-------------------+------------------+------------------+\n",
      "|income|avg(hours_per_week)| avg(capital_loss)| avg(capital_gain)|\n",
      "+------+-------------------+------------------+------------------+\n",
      "|  >50K| 45.473026399693914|195.00153041703865| 4006.142456319347|\n",
      "| <=50K| 38.840210355987054| 53.14292071197411|148.75246763754046|\n",
      "+------+-------------------+------------------+------------------+\n",
      "\n"
     ]
    }
   ],
   "source": [
    "result3.show()"
   ]
  },
  {
   "cell_type": "code",
   "execution_count": 14,
   "metadata": {},
   "outputs": [],
   "source": [
    "result4=spark.sql(\"SELECT occupation, avg(hours_per_week),avg(capital_gain),avg(capital_loss) FROM adultdata GROUP BY occupation\")"
   ]
  },
  {
   "cell_type": "code",
   "execution_count": 15,
   "metadata": {},
   "outputs": [
    {
     "name": "stdout",
     "output_type": "stream",
     "text": [
      "+------------------+-------------------+------------------+------------------+\n",
      "|        occupation|avg(hours_per_week)| avg(capital_gain)| avg(capital_loss)|\n",
      "+------------------+-------------------+------------------+------------------+\n",
      "|   Farming-fishing| 46.989939637826964| 589.7263581488934| 63.07545271629779|\n",
      "| Handlers-cleaners| 37.947445255474456| 257.5729927007299|45.635766423357666|\n",
      "|    Prof-specialty|  39.15828179842888|2072.9755975263247|112.84857095102791|\n",
      "|      Adm-clerical|  37.55835543766578| 495.9549071618037|60.794429708222815|\n",
      "|   Exec-managerial|   44.9877029021151|2262.7729955730447|138.83841613379244|\n",
      "|      Craft-repair|  42.30422054159551| 649.5128080019517| 88.46523542327397|\n",
      "|             Sales|  40.78109589041096| 1319.829315068493| 98.30054794520548|\n",
      "|      Tech-support| 39.432112068965516| 673.5528017241379| 98.66594827586206|\n",
      "|  Transport-moving|  44.65623043206011| 490.3237319974953| 81.48090169067001|\n",
      "|   Protective-serv|  42.87057010785824| 708.0986132511556| 78.33436055469954|\n",
      "|      Armed-Forces| 40.666666666666664|               0.0|209.66666666666666|\n",
      "| Machine-op-inspct| 40.755744255744254| 328.6893106893107| 61.70629370629371|\n",
      "|     Other-service|  34.70166919575114|191.30166919575115| 38.25068285280729|\n",
      "|   Priv-house-serv|  32.88590604026846| 279.8523489932886|21.449664429530202|\n",
      "+------------------+-------------------+------------------+------------------+\n",
      "\n"
     ]
    }
   ],
   "source": [
    "result4.show()"
   ]
  },
  {
   "cell_type": "code",
   "execution_count": 16,
   "metadata": {},
   "outputs": [],
   "source": [
    "result5=spark.sql(\"SELECT sex, avg(hours_per_week),avg(capital_gain),avg(capital_loss) FROM adultdata GROUP BY sex\")"
   ]
  },
  {
   "cell_type": "code",
   "execution_count": 17,
   "metadata": {},
   "outputs": [
    {
     "name": "stdout",
     "output_type": "stream",
     "text": [
      "+-------+-------------------+------------------+------------------+\n",
      "|    sex|avg(hours_per_week)| avg(capital_gain)| avg(capital_loss)|\n",
      "+-------+-------------------+------------------+------------------+\n",
      "|   Male|  42.42808627810923|1329.3700780174393|100.21330885727397|\n",
      "| Female| 36.410361154953115| 568.4105468387336| 61.18763346021725|\n",
      "+-------+-------------------+------------------+------------------+\n",
      "\n"
     ]
    }
   ],
   "source": [
    "result5.show()"
   ]
  },
  {
   "cell_type": "code",
   "execution_count": 18,
   "metadata": {},
   "outputs": [],
   "source": [
    "result6=spark.sql(\"SELECT education, avg(hours_per_week),avg(capital_gain),avg(capital_loss) FROM adultdata GROUP BY education\")"
   ]
  },
  {
   "cell_type": "code",
   "execution_count": 19,
   "metadata": {},
   "outputs": [
    {
     "name": "stdout",
     "output_type": "stream",
     "text": [
      "+-------------+-------------------+------------------+------------------+\n",
      "|    education|avg(hours_per_week)| avg(capital_gain)| avg(capital_loss)|\n",
      "+-------------+-------------------+------------------+------------------+\n",
      "|  Prof-school|  47.42534722222222|10414.416666666666|        231.203125|\n",
      "|         10th| 37.052518756698824|404.57449088960345|56.845659163987136|\n",
      "|      7th-8th|  39.36687306501548|233.93962848297213|  65.6687306501548|\n",
      "|      5th-6th|   38.8978978978979|176.02102102102103| 68.25225225225225|\n",
      "|   Assoc-acdm| 40.504217432052485| 640.3992502343018| 93.41893158388004|\n",
      "|    Assoc-voc|  41.61070911722142| 715.0513748191028| 72.75470332850941|\n",
      "|      Masters|  43.83633197910621| 2562.563551944283|166.71967498549043|\n",
      "|         12th|  35.78060046189376| 284.0877598152425| 32.33718244803695|\n",
      "|    Preschool|  36.64705882352941| 898.3921568627451| 66.49019607843137|\n",
      "|          9th|  38.04474708171206|342.08949416342415| 28.99805447470817|\n",
      "|    Bachelors| 42.614005602240894| 1756.299533146592|118.35032679738562|\n",
      "|    Doctorate| 46.973365617433416| 4770.145278450364| 262.8450363196126|\n",
      "|      HS-grad| 40.575373773926295|  576.800114274831| 70.46662222645462|\n",
      "|         11th|  33.92595744680851|215.09787234042554| 50.07914893617021|\n",
      "| Some-college|  38.85228363736113| 598.8241667809629| 71.63708681936635|\n",
      "|      1st-4th|  38.25595238095238|           125.875| 48.32738095238095|\n",
      "+-------------+-------------------+------------------+------------------+\n",
      "\n"
     ]
    }
   ],
   "source": [
    "result6.show()"
   ]
  },
  {
   "cell_type": "code",
   "execution_count": 20,
   "metadata": {},
   "outputs": [],
   "source": [
    "from pyspark.sql.functions import isnan, when, count, col, isnull"
   ]
  },
  {
   "cell_type": "code",
   "execution_count": 21,
   "metadata": {},
   "outputs": [
    {
     "name": "stdout",
     "output_type": "stream",
     "text": [
      "+---+---------+------+---------+-------------+--------------+----------+------------+----+---+------------+------------+--------------+--------------+------+\n",
      "|age|workclass|fnlwgt|education|education_num|marital_status|occupation|relationship|race|sex|capital_gain|capital_loss|hours_per_week|native_country|income|\n",
      "+---+---------+------+---------+-------------+--------------+----------+------------+----+---+------------+------------+--------------+--------------+------+\n",
      "|  0|        0|     0|        0|            0|             0|         0|           0|   0|  0|           0|           0|             0|             0|     0|\n",
      "+---+---------+------+---------+-------------+--------------+----------+------------+----+---+------------+------------+--------------+--------------+------+\n",
      "\n"
     ]
    }
   ],
   "source": [
    "df.select([count(when(isnull(c), c)).alias(c) for c in df.columns]).show()"
   ]
  },
  {
   "cell_type": "code",
   "execution_count": 22,
   "metadata": {},
   "outputs": [],
   "source": [
    "from pyspark.sql.functions import countDistinct"
   ]
  },
  {
   "cell_type": "code",
   "execution_count": 23,
   "metadata": {},
   "outputs": [
    {
     "name": "stdout",
     "output_type": "stream",
     "text": [
      "+---------+---------+--------------+----------+------------+----+--------------+\n",
      "|workclass|education|marital_status|occupation|relationship|race|native_country|\n",
      "+---------+---------+--------------+----------+------------+----+--------------+\n",
      "|        8|       16|             7|        14|           6|   5|            41|\n",
      "+---------+---------+--------------+----------+------------+----+--------------+\n",
      "\n"
     ]
    }
   ],
   "source": [
    "df.select([countDistinct(c).alias(c) for c in [\"workclass\",\"education\",\"marital_status\",\"occupation\",\"relationship\",\"race\",\"native_country\"]]).show()"
   ]
  },
  {
   "cell_type": "markdown",
   "metadata": {},
   "source": [
    "### String Indexing , One hot encoding and Vector Assembling"
   ]
  },
  {
   "cell_type": "code",
   "execution_count": 24,
   "metadata": {},
   "outputs": [],
   "source": [
    "from pyspark.ml.feature import (VectorAssembler,VectorIndexer,OneHotEncoder,StringIndexer)"
   ]
  },
  {
   "cell_type": "code",
   "execution_count": 25,
   "metadata": {},
   "outputs": [
    {
     "name": "stdout",
     "output_type": "stream",
     "text": [
      "root\n",
      " |-- age: integer (nullable = true)\n",
      " |-- workclass: string (nullable = true)\n",
      " |-- fnlwgt: integer (nullable = true)\n",
      " |-- education: string (nullable = true)\n",
      " |-- education_num: integer (nullable = true)\n",
      " |-- marital_status: string (nullable = true)\n",
      " |-- occupation: string (nullable = true)\n",
      " |-- relationship: string (nullable = true)\n",
      " |-- race: string (nullable = true)\n",
      " |-- sex: string (nullable = true)\n",
      " |-- capital_gain: integer (nullable = true)\n",
      " |-- capital_loss: integer (nullable = true)\n",
      " |-- hours_per_week: integer (nullable = true)\n",
      " |-- native_country: string (nullable = true)\n",
      " |-- income: string (nullable = true)\n",
      " |-- workclass_Index: double (nullable = false)\n",
      " |-- workclass_Vec: vector (nullable = true)\n",
      "\n"
     ]
    }
   ],
   "source": [
    "workclass_indexer = StringIndexer(inputCol='workclass',outputCol='workclass_Index')\n",
    "df=workclass_indexer.fit(df).transform(df)\n",
    "workclass_encoder = OneHotEncoder(inputCol='workclass_Index',outputCol='workclass_Vec')\n",
    "workclass_model=workclass_encoder.fit(df)\n",
    "df=workclass_model.transform(df)\n",
    "df.printSchema()"
   ]
  },
  {
   "cell_type": "code",
   "execution_count": 26,
   "metadata": {},
   "outputs": [
    {
     "name": "stdout",
     "output_type": "stream",
     "text": [
      "+-------------+\n",
      "|workclass_Vec|\n",
      "+-------------+\n",
      "|(7,[3],[1.0])|\n",
      "|(7,[1],[1.0])|\n",
      "|(7,[0],[1.0])|\n",
      "|(7,[0],[1.0])|\n",
      "|(7,[0],[1.0])|\n",
      "|(7,[0],[1.0])|\n",
      "|(7,[0],[1.0])|\n",
      "|(7,[1],[1.0])|\n",
      "|(7,[0],[1.0])|\n",
      "|(7,[0],[1.0])|\n",
      "|(7,[0],[1.0])|\n",
      "|(7,[3],[1.0])|\n",
      "|(7,[0],[1.0])|\n",
      "|(7,[0],[1.0])|\n",
      "|(7,[0],[1.0])|\n",
      "|(7,[0],[1.0])|\n",
      "|(7,[1],[1.0])|\n",
      "|(7,[0],[1.0])|\n",
      "|(7,[0],[1.0])|\n",
      "|(7,[1],[1.0])|\n",
      "+-------------+\n",
      "only showing top 20 rows\n",
      "\n"
     ]
    }
   ],
   "source": [
    "df.select(\"workclass_Vec\").show()"
   ]
  },
  {
   "cell_type": "code",
   "execution_count": 27,
   "metadata": {},
   "outputs": [
    {
     "name": "stdout",
     "output_type": "stream",
     "text": [
      "root\n",
      " |-- age: integer (nullable = true)\n",
      " |-- workclass: string (nullable = true)\n",
      " |-- fnlwgt: integer (nullable = true)\n",
      " |-- education: string (nullable = true)\n",
      " |-- education_num: integer (nullable = true)\n",
      " |-- marital_status: string (nullable = true)\n",
      " |-- occupation: string (nullable = true)\n",
      " |-- relationship: string (nullable = true)\n",
      " |-- race: string (nullable = true)\n",
      " |-- sex: string (nullable = true)\n",
      " |-- capital_gain: integer (nullable = true)\n",
      " |-- capital_loss: integer (nullable = true)\n",
      " |-- hours_per_week: integer (nullable = true)\n",
      " |-- native_country: string (nullable = true)\n",
      " |-- income: string (nullable = true)\n",
      " |-- workclass_Index: double (nullable = false)\n",
      " |-- workclass_Vec: vector (nullable = true)\n",
      " |-- education_Index: double (nullable = false)\n",
      " |-- education_Vec: vector (nullable = true)\n",
      "\n"
     ]
    }
   ],
   "source": [
    "education_indexer = StringIndexer(inputCol='education',outputCol='education_Index')\n",
    "df=education_indexer.fit(df).transform(df)\n",
    "education_encoder = OneHotEncoder(inputCol='education_Index',outputCol='education_Vec')\n",
    "education_model=education_encoder.fit(df)\n",
    "df=education_model.transform(df)\n",
    "df.printSchema()"
   ]
  },
  {
   "cell_type": "code",
   "execution_count": 28,
   "metadata": {},
   "outputs": [
    {
     "name": "stdout",
     "output_type": "stream",
     "text": [
      "+---------------+\n",
      "|  education_Vec|\n",
      "+---------------+\n",
      "| (15,[2],[1.0])|\n",
      "| (15,[2],[1.0])|\n",
      "| (15,[0],[1.0])|\n",
      "| (15,[5],[1.0])|\n",
      "| (15,[2],[1.0])|\n",
      "| (15,[3],[1.0])|\n",
      "|(15,[10],[1.0])|\n",
      "| (15,[0],[1.0])|\n",
      "| (15,[3],[1.0])|\n",
      "| (15,[2],[1.0])|\n",
      "| (15,[1],[1.0])|\n",
      "| (15,[2],[1.0])|\n",
      "| (15,[2],[1.0])|\n",
      "| (15,[6],[1.0])|\n",
      "| (15,[4],[1.0])|\n",
      "| (15,[8],[1.0])|\n",
      "| (15,[0],[1.0])|\n",
      "| (15,[0],[1.0])|\n",
      "| (15,[5],[1.0])|\n",
      "| (15,[3],[1.0])|\n",
      "+---------------+\n",
      "only showing top 20 rows\n",
      "\n"
     ]
    }
   ],
   "source": [
    "df.select(\"education_Vec\").show()"
   ]
  },
  {
   "cell_type": "code",
   "execution_count": 29,
   "metadata": {},
   "outputs": [
    {
     "name": "stdout",
     "output_type": "stream",
     "text": [
      "+---+-----------------+------+-------------+-------------+--------------------+------------------+--------------+-------------------+-------+------------+------------+--------------+--------------+------+---------------+-------------+---------------+---------------+--------------------+------------------+\n",
      "|age|        workclass|fnlwgt|    education|education_num|      marital_status|        occupation|  relationship|               race|    sex|capital_gain|capital_loss|hours_per_week|native_country|income|workclass_Index|workclass_Vec|education_Index|  education_Vec|marital_status_Index|marital_status_Vec|\n",
      "+---+-----------------+------+-------------+-------------+--------------------+------------------+--------------+-------------------+-------+------------+------------+--------------+--------------+------+---------------+-------------+---------------+---------------+--------------------+------------------+\n",
      "| 39|        State-gov| 77516|    Bachelors|           13|       Never-married|      Adm-clerical| Not-in-family|              White|   Male|        2174|           0|            40| United-States| <=50K|            3.0|(7,[3],[1.0])|            2.0| (15,[2],[1.0])|                 1.0|     (6,[1],[1.0])|\n",
      "| 50| Self-emp-not-inc| 83311|    Bachelors|           13|  Married-civ-spouse|   Exec-managerial|       Husband|              White|   Male|           0|           0|            13| United-States| <=50K|            1.0|(7,[1],[1.0])|            2.0| (15,[2],[1.0])|                 0.0|     (6,[0],[1.0])|\n",
      "| 38|          Private|215646|      HS-grad|            9|            Divorced| Handlers-cleaners| Not-in-family|              White|   Male|           0|           0|            40| United-States| <=50K|            0.0|(7,[0],[1.0])|            0.0| (15,[0],[1.0])|                 2.0|     (6,[2],[1.0])|\n",
      "| 53|          Private|234721|         11th|            7|  Married-civ-spouse| Handlers-cleaners|       Husband|              Black|   Male|           0|           0|            40| United-States| <=50K|            0.0|(7,[0],[1.0])|            5.0| (15,[5],[1.0])|                 0.0|     (6,[0],[1.0])|\n",
      "| 28|          Private|338409|    Bachelors|           13|  Married-civ-spouse|    Prof-specialty|          Wife|              Black| Female|           0|           0|            40|          Cuba| <=50K|            0.0|(7,[0],[1.0])|            2.0| (15,[2],[1.0])|                 0.0|     (6,[0],[1.0])|\n",
      "| 37|          Private|284582|      Masters|           14|  Married-civ-spouse|   Exec-managerial|          Wife|              White| Female|           0|           0|            40| United-States| <=50K|            0.0|(7,[0],[1.0])|            3.0| (15,[3],[1.0])|                 0.0|     (6,[0],[1.0])|\n",
      "| 49|          Private|160187|          9th|            5| Married-spouse-a...|     Other-service| Not-in-family|              Black| Female|           0|           0|            16|       Jamaica| <=50K|            0.0|(7,[0],[1.0])|           10.0|(15,[10],[1.0])|                 5.0|     (6,[5],[1.0])|\n",
      "| 52| Self-emp-not-inc|209642|      HS-grad|            9|  Married-civ-spouse|   Exec-managerial|       Husband|              White|   Male|           0|           0|            45| United-States|  >50K|            1.0|(7,[1],[1.0])|            0.0| (15,[0],[1.0])|                 0.0|     (6,[0],[1.0])|\n",
      "| 31|          Private| 45781|      Masters|           14|       Never-married|    Prof-specialty| Not-in-family|              White| Female|       14084|           0|            50| United-States|  >50K|            0.0|(7,[0],[1.0])|            3.0| (15,[3],[1.0])|                 1.0|     (6,[1],[1.0])|\n",
      "| 42|          Private|159449|    Bachelors|           13|  Married-civ-spouse|   Exec-managerial|       Husband|              White|   Male|        5178|           0|            40| United-States|  >50K|            0.0|(7,[0],[1.0])|            2.0| (15,[2],[1.0])|                 0.0|     (6,[0],[1.0])|\n",
      "| 37|          Private|280464| Some-college|           10|  Married-civ-spouse|   Exec-managerial|       Husband|              Black|   Male|           0|           0|            80| United-States|  >50K|            0.0|(7,[0],[1.0])|            1.0| (15,[1],[1.0])|                 0.0|     (6,[0],[1.0])|\n",
      "| 30|        State-gov|141297|    Bachelors|           13|  Married-civ-spouse|    Prof-specialty|       Husband| Asian-Pac-Islander|   Male|           0|           0|            40|         India|  >50K|            3.0|(7,[3],[1.0])|            2.0| (15,[2],[1.0])|                 0.0|     (6,[0],[1.0])|\n",
      "| 23|          Private|122272|    Bachelors|           13|       Never-married|      Adm-clerical|     Own-child|              White| Female|           0|           0|            30| United-States| <=50K|            0.0|(7,[0],[1.0])|            2.0| (15,[2],[1.0])|                 1.0|     (6,[1],[1.0])|\n",
      "| 32|          Private|205019|   Assoc-acdm|           12|       Never-married|             Sales| Not-in-family|              Black|   Male|           0|           0|            50| United-States| <=50K|            0.0|(7,[0],[1.0])|            6.0| (15,[6],[1.0])|                 1.0|     (6,[1],[1.0])|\n",
      "| 40|          Private|121772|    Assoc-voc|           11|  Married-civ-spouse|      Craft-repair|       Husband| Asian-Pac-Islander|   Male|           0|           0|            40| United-States|  >50K|            0.0|(7,[0],[1.0])|            4.0| (15,[4],[1.0])|                 0.0|     (6,[0],[1.0])|\n",
      "| 34|          Private|245487|      7th-8th|            4|  Married-civ-spouse|  Transport-moving|       Husband| Amer-Indian-Eskimo|   Male|           0|           0|            45|        Mexico| <=50K|            0.0|(7,[0],[1.0])|            8.0| (15,[8],[1.0])|                 0.0|     (6,[0],[1.0])|\n",
      "| 25| Self-emp-not-inc|176756|      HS-grad|            9|       Never-married|   Farming-fishing|     Own-child|              White|   Male|           0|           0|            35| United-States| <=50K|            1.0|(7,[1],[1.0])|            0.0| (15,[0],[1.0])|                 1.0|     (6,[1],[1.0])|\n",
      "| 32|          Private|186824|      HS-grad|            9|       Never-married| Machine-op-inspct|     Unmarried|              White|   Male|           0|           0|            40| United-States| <=50K|            0.0|(7,[0],[1.0])|            0.0| (15,[0],[1.0])|                 1.0|     (6,[1],[1.0])|\n",
      "| 38|          Private| 28887|         11th|            7|  Married-civ-spouse|             Sales|       Husband|              White|   Male|           0|           0|            50| United-States| <=50K|            0.0|(7,[0],[1.0])|            5.0| (15,[5],[1.0])|                 0.0|     (6,[0],[1.0])|\n",
      "| 43| Self-emp-not-inc|292175|      Masters|           14|            Divorced|   Exec-managerial|     Unmarried|              White| Female|           0|           0|            45| United-States|  >50K|            1.0|(7,[1],[1.0])|            3.0| (15,[3],[1.0])|                 2.0|     (6,[2],[1.0])|\n",
      "+---+-----------------+------+-------------+-------------+--------------------+------------------+--------------+-------------------+-------+------------+------------+--------------+--------------+------+---------------+-------------+---------------+---------------+--------------------+------------------+\n",
      "only showing top 20 rows\n",
      "\n"
     ]
    }
   ],
   "source": [
    "marital_status_indexer = StringIndexer(inputCol='marital_status',outputCol='marital_status_Index')\n",
    "df=marital_status_indexer.fit(df).transform(df)\n",
    "marital_status_encoder = OneHotEncoder(inputCol='marital_status_Index',outputCol='marital_status_Vec')\n",
    "marital_status_model=marital_status_encoder.fit(df)\n",
    "df=marital_status_model.transform(df)\n",
    "df.show()"
   ]
  },
  {
   "cell_type": "code",
   "execution_count": 30,
   "metadata": {},
   "outputs": [],
   "source": [
    "occupation_indexer = StringIndexer(inputCol='occupation',outputCol='occupation_Index')\n",
    "df=occupation_indexer.fit(df).transform(df)\n",
    "occupation_encoder = OneHotEncoder(inputCol='occupation_Index',outputCol='occupation_Vec')\n",
    "occupation_model=occupation_encoder.fit(df)\n",
    "df=occupation_model.transform(df)"
   ]
  },
  {
   "cell_type": "code",
   "execution_count": 31,
   "metadata": {},
   "outputs": [],
   "source": [
    "relationship_indexer = StringIndexer(inputCol='relationship',outputCol='relationship_Index')\n",
    "df=relationship_indexer.fit(df).transform(df)\n",
    "relationship_encoder = OneHotEncoder(inputCol='relationship_Index',outputCol='relationship_Vec')\n",
    "relationship_model=relationship_encoder.fit(df)\n",
    "df=relationship_model.transform(df)"
   ]
  },
  {
   "cell_type": "code",
   "execution_count": 32,
   "metadata": {},
   "outputs": [],
   "source": [
    "race_indexer = StringIndexer(inputCol='race',outputCol='race_Index')\n",
    "df=race_indexer.fit(df).transform(df)\n",
    "race_encoder = OneHotEncoder(inputCol='race_Index',outputCol='race_Vec')\n",
    "race_model=race_encoder.fit(df)\n",
    "df=race_model.transform(df)"
   ]
  },
  {
   "cell_type": "code",
   "execution_count": 33,
   "metadata": {},
   "outputs": [],
   "source": [
    "sex_indexer = StringIndexer(inputCol='sex',outputCol='sex_Index')\n",
    "df=sex_indexer.fit(df).transform(df)\n",
    "sex_encoder = OneHotEncoder(inputCol='sex_Index',outputCol='sex_Vec')\n",
    "sex_model=sex_encoder.fit(df)\n",
    "df=sex_model.transform(df)"
   ]
  },
  {
   "cell_type": "code",
   "execution_count": 34,
   "metadata": {},
   "outputs": [],
   "source": [
    "native_country_indexer = StringIndexer(inputCol='native_country',outputCol='native_country_Index')\n",
    "df=native_country_indexer.fit(df).transform(df)\n",
    "native_country_encoder = OneHotEncoder(inputCol='native_country_Index',outputCol='native_country_Vec')\n",
    "native_country_model=native_country_encoder.fit(df)\n",
    "df=native_country_model.transform(df)"
   ]
  },
  {
   "cell_type": "code",
   "execution_count": 35,
   "metadata": {},
   "outputs": [],
   "source": [
    "income_indexer = StringIndexer(inputCol='income',outputCol='income_Index')\n",
    "df=income_indexer.fit(df).transform(df)\n"
   ]
  },
  {
   "cell_type": "code",
   "execution_count": 36,
   "metadata": {},
   "outputs": [
    {
     "data": {
      "text/plain": [
       "['age',\n",
       " 'workclass',\n",
       " 'fnlwgt',\n",
       " 'education',\n",
       " 'education_num',\n",
       " 'marital_status',\n",
       " 'occupation',\n",
       " 'relationship',\n",
       " 'race',\n",
       " 'sex',\n",
       " 'capital_gain',\n",
       " 'capital_loss',\n",
       " 'hours_per_week',\n",
       " 'native_country',\n",
       " 'income',\n",
       " 'workclass_Index',\n",
       " 'workclass_Vec',\n",
       " 'education_Index',\n",
       " 'education_Vec',\n",
       " 'marital_status_Index',\n",
       " 'marital_status_Vec',\n",
       " 'occupation_Index',\n",
       " 'occupation_Vec',\n",
       " 'relationship_Index',\n",
       " 'relationship_Vec',\n",
       " 'race_Index',\n",
       " 'race_Vec',\n",
       " 'sex_Index',\n",
       " 'sex_Vec',\n",
       " 'native_country_Index',\n",
       " 'native_country_Vec',\n",
       " 'income_Index']"
      ]
     },
     "execution_count": 36,
     "metadata": {},
     "output_type": "execute_result"
    }
   ],
   "source": [
    "df.columns"
   ]
  },
  {
   "cell_type": "code",
   "execution_count": 37,
   "metadata": {},
   "outputs": [],
   "source": [
    "assembler = VectorAssembler(inputCols=[\n",
    " 'workclass_Vec','age','fnlwgt','education_Vec','education_num','marital_status_Vec','capital_gain', 'capital_loss', 'hours_per_week', 'occupation_Vec',\n",
    "    'relationship_Vec','race_Vec','sex_Vec','native_country_Vec',\n",
    "],outputCol='features')"
   ]
  },
  {
   "cell_type": "code",
   "execution_count": 38,
   "metadata": {},
   "outputs": [],
   "source": [
    "df_assembled = assembler.transform(df)"
   ]
  },
  {
   "cell_type": "code",
   "execution_count": 39,
   "metadata": {},
   "outputs": [
    {
     "data": {
      "text/plain": [
       "['age',\n",
       " 'workclass',\n",
       " 'fnlwgt',\n",
       " 'education',\n",
       " 'education_num',\n",
       " 'marital_status',\n",
       " 'occupation',\n",
       " 'relationship',\n",
       " 'race',\n",
       " 'sex',\n",
       " 'capital_gain',\n",
       " 'capital_loss',\n",
       " 'hours_per_week',\n",
       " 'native_country',\n",
       " 'income',\n",
       " 'workclass_Index',\n",
       " 'workclass_Vec',\n",
       " 'education_Index',\n",
       " 'education_Vec',\n",
       " 'marital_status_Index',\n",
       " 'marital_status_Vec',\n",
       " 'occupation_Index',\n",
       " 'occupation_Vec',\n",
       " 'relationship_Index',\n",
       " 'relationship_Vec',\n",
       " 'race_Index',\n",
       " 'race_Vec',\n",
       " 'sex_Index',\n",
       " 'sex_Vec',\n",
       " 'native_country_Index',\n",
       " 'native_country_Vec',\n",
       " 'income_Index',\n",
       " 'features']"
      ]
     },
     "execution_count": 39,
     "metadata": {},
     "output_type": "execute_result"
    }
   ],
   "source": [
    "df_assembled.columns"
   ]
  },
  {
   "cell_type": "code",
   "execution_count": 40,
   "metadata": {},
   "outputs": [
    {
     "name": "stdout",
     "output_type": "stream",
     "text": [
      "+--------------------+------------+\n",
      "|            features|income_Index|\n",
      "+--------------------+------------+\n",
      "|(97,[3,7,8,11,24,...|         0.0|\n",
      "|(97,[1,7,8,11,24,...|         0.0|\n",
      "|(97,[0,7,8,9,24,2...|         0.0|\n",
      "|(97,[0,7,8,14,24,...|         0.0|\n",
      "|(97,[0,7,8,11,24,...|         0.0|\n",
      "|(97,[0,7,8,12,24,...|         0.0|\n",
      "|(97,[0,7,8,19,24,...|         0.0|\n",
      "|(97,[1,7,8,9,24,2...|         1.0|\n",
      "|(97,[0,7,8,12,24,...|         1.0|\n",
      "|(97,[0,7,8,11,24,...|         1.0|\n",
      "|(97,[0,7,8,10,24,...|         1.0|\n",
      "|(97,[3,7,8,11,24,...|         1.0|\n",
      "|(97,[0,7,8,11,24,...|         0.0|\n",
      "|(97,[0,7,8,15,24,...|         0.0|\n",
      "|(97,[0,7,8,13,24,...|         1.0|\n",
      "|(97,[0,7,8,17,24,...|         0.0|\n",
      "|(97,[1,7,8,9,24,2...|         0.0|\n",
      "|(97,[0,7,8,9,24,2...|         0.0|\n",
      "|(97,[0,7,8,14,24,...|         0.0|\n",
      "|(97,[1,7,8,12,24,...|         1.0|\n",
      "+--------------------+------------+\n",
      "only showing top 20 rows\n",
      "\n"
     ]
    }
   ],
   "source": [
    "df_assembled.select(\"features\", \"income_Index\").show()"
   ]
  },
  {
   "cell_type": "markdown",
   "metadata": {},
   "source": [
    "### Scaling"
   ]
  },
  {
   "cell_type": "code",
   "execution_count": 41,
   "metadata": {},
   "outputs": [],
   "source": [
    "from pyspark.ml.feature import StandardScaler"
   ]
  },
  {
   "cell_type": "code",
   "execution_count": 42,
   "metadata": {},
   "outputs": [],
   "source": [
    "scaler = StandardScaler(inputCol=\"features\",outputCol=\"scaledFeatures\")"
   ]
  },
  {
   "cell_type": "code",
   "execution_count": 43,
   "metadata": {},
   "outputs": [],
   "source": [
    "scalerModel = scaler.fit(df_assembled)"
   ]
  },
  {
   "cell_type": "code",
   "execution_count": 44,
   "metadata": {},
   "outputs": [],
   "source": [
    "df_assembled_scaled = scalerModel.transform(df_assembled)"
   ]
  },
  {
   "cell_type": "code",
   "execution_count": 45,
   "metadata": {},
   "outputs": [
    {
     "name": "stdout",
     "output_type": "stream",
     "text": [
      "root\n",
      " |-- age: integer (nullable = true)\n",
      " |-- workclass: string (nullable = true)\n",
      " |-- fnlwgt: integer (nullable = true)\n",
      " |-- education: string (nullable = true)\n",
      " |-- education_num: integer (nullable = true)\n",
      " |-- marital_status: string (nullable = true)\n",
      " |-- occupation: string (nullable = true)\n",
      " |-- relationship: string (nullable = true)\n",
      " |-- race: string (nullable = true)\n",
      " |-- sex: string (nullable = true)\n",
      " |-- capital_gain: integer (nullable = true)\n",
      " |-- capital_loss: integer (nullable = true)\n",
      " |-- hours_per_week: integer (nullable = true)\n",
      " |-- native_country: string (nullable = true)\n",
      " |-- income: string (nullable = true)\n",
      " |-- workclass_Index: double (nullable = false)\n",
      " |-- workclass_Vec: vector (nullable = true)\n",
      " |-- education_Index: double (nullable = false)\n",
      " |-- education_Vec: vector (nullable = true)\n",
      " |-- marital_status_Index: double (nullable = false)\n",
      " |-- marital_status_Vec: vector (nullable = true)\n",
      " |-- occupation_Index: double (nullable = false)\n",
      " |-- occupation_Vec: vector (nullable = true)\n",
      " |-- relationship_Index: double (nullable = false)\n",
      " |-- relationship_Vec: vector (nullable = true)\n",
      " |-- race_Index: double (nullable = false)\n",
      " |-- race_Vec: vector (nullable = true)\n",
      " |-- sex_Index: double (nullable = false)\n",
      " |-- sex_Vec: vector (nullable = true)\n",
      " |-- native_country_Index: double (nullable = false)\n",
      " |-- native_country_Vec: vector (nullable = true)\n",
      " |-- income_Index: double (nullable = false)\n",
      " |-- features: vector (nullable = true)\n",
      " |-- scaledFeatures: vector (nullable = true)\n",
      "\n"
     ]
    }
   ],
   "source": [
    "df_assembled_scaled.printSchema()"
   ]
  },
  {
   "cell_type": "code",
   "execution_count": 46,
   "metadata": {},
   "outputs": [
    {
     "name": "stdout",
     "output_type": "stream",
     "text": [
      "+--------------------+\n",
      "|      scaledFeatures|\n",
      "+--------------------+\n",
      "|(97,[3,7,8,11,24,...|\n",
      "|(97,[1,7,8,11,24,...|\n",
      "|(97,[0,7,8,9,24,2...|\n",
      "|(97,[0,7,8,14,24,...|\n",
      "|(97,[0,7,8,11,24,...|\n",
      "|(97,[0,7,8,12,24,...|\n",
      "|(97,[0,7,8,19,24,...|\n",
      "|(97,[1,7,8,9,24,2...|\n",
      "|(97,[0,7,8,12,24,...|\n",
      "|(97,[0,7,8,11,24,...|\n",
      "|(97,[0,7,8,10,24,...|\n",
      "|(97,[3,7,8,11,24,...|\n",
      "|(97,[0,7,8,11,24,...|\n",
      "|(97,[0,7,8,15,24,...|\n",
      "|(97,[0,7,8,13,24,...|\n",
      "|(97,[0,7,8,17,24,...|\n",
      "|(97,[1,7,8,9,24,2...|\n",
      "|(97,[0,7,8,9,24,2...|\n",
      "|(97,[0,7,8,14,24,...|\n",
      "|(97,[1,7,8,12,24,...|\n",
      "+--------------------+\n",
      "only showing top 20 rows\n",
      "\n"
     ]
    }
   ],
   "source": [
    "df_assembled_scaled.select(\"scaledFeatures\").show()"
   ]
  },
  {
   "cell_type": "code",
   "execution_count": 47,
   "metadata": {},
   "outputs": [],
   "source": [
    "final_data = df_assembled_scaled.select(\"scaledFeatures\", \"income_Index\")"
   ]
  },
  {
   "cell_type": "code",
   "execution_count": 48,
   "metadata": {},
   "outputs": [],
   "source": [
    "train_data,test_data = final_data.randomSplit([0.7,0.3])"
   ]
  },
  {
   "cell_type": "markdown",
   "metadata": {},
   "source": [
    "### Logistic Regression"
   ]
  },
  {
   "cell_type": "code",
   "execution_count": 49,
   "metadata": {},
   "outputs": [],
   "source": [
    "from pyspark.ml.classification import LogisticRegression\n",
    "lr = LogisticRegression(labelCol='income_Index',featuresCol=\"scaledFeatures\")"
   ]
  },
  {
   "cell_type": "code",
   "execution_count": 50,
   "metadata": {},
   "outputs": [],
   "source": [
    "lrModel = lr.fit(train_data)"
   ]
  },
  {
   "cell_type": "code",
   "execution_count": 51,
   "metadata": {},
   "outputs": [
    {
     "name": "stdout",
     "output_type": "stream",
     "text": [
      "Coefficients: \n",
      "[-0.9824086758898924,-0.7419872626158511,-0.5696549640009633,-0.4872050015671399,-0.3622481980005578,-0.2931993894038852,-0.2414035052402708,0.3211477188318392,0.059304112937285755,0.4741803933646044,0.3397726737672524,0.05916998270565335,-0.002782861330639354,0.1129485725229431,0.2662560752687501,0.007707666570440325,0.2790233382910743,0.29791585059551207,0.002569840768920795,0.2741688568854555,0.10113237033482995,-0.03818334571910119,0.2997229801375503,0.2425372619393289,1.3457251587502115,-0.4565859177120672,-1.5133056229207147,-0.92623978777601,-0.48605925296667624,-0.45761778185378427,-0.28426503699603584,2.1504157161292037,0.25517000712829485,0.39382396317983553,-0.19579704915140617,-0.21352510731089314,0.01918611464940211,-0.2319230629567449,-0.13811599958808637,-0.46862212386863883,-0.21615167607286626,-0.1631074407606077,-0.27679077415186215,-0.29339477109512335,-0.009100706718297167,-0.019754254171037884,-0.3125841957731438,0.3242494546879176,0.34339700850670357,-0.14558065466645317,0.22389028570909641,0.41545056470947805,0.11049633764186705,0.019549499836646722,0.023146226224615755,-0.025256327605481323,0.3829334988352134,-1.4098228754218924,-0.8092447928658848,-0.3380203196813467,-0.30408255623831776,-0.29394378628681467,-0.32233106593898675,-0.32400375348248506,-0.2893811285309121,-0.25780662613172534,-0.2640841125497276,-0.24140504664780713,-0.35016196207981987,-0.291687554145503,-0.2212088725153151,-0.31406192947453787,-0.2949006836541981,-0.22936565900199934,-0.21258538741601787,-0.21610468816738662,-0.30141027365751083,-0.1806600956841106,-0.19422767332862273,-0.20742819680274213,-0.17919454585772385,-0.1920333823299268,-0.41579118195463366,-0.11165838688456994,-0.17929920568847135,-0.16583678331067314,-0.11924002132271996,-0.11686439828803905,-0.09667224521829904,-0.12866287498397214,-0.12953922902594414,-0.15223059025265692,-0.08468432886822312,-0.28203979916671357,-0.12361111082738158,-0.09101823148737492,-0.09549461858629082] \n",
      "Intercept: \n",
      "-2.1404319265187386\n"
     ]
    }
   ],
   "source": [
    "print(\"Coefficients: \\n{} \\nIntercept: \\n{}\".format(lrModel.coefficients,lrModel.intercept))"
   ]
  },
  {
   "cell_type": "code",
   "execution_count": 52,
   "metadata": {},
   "outputs": [],
   "source": [
    "train_results=lrModel.transform(train_data)\n",
    "test_results = lrModel.transform(test_data)"
   ]
  },
  {
   "cell_type": "code",
   "execution_count": 53,
   "metadata": {},
   "outputs": [],
   "source": [
    "from pyspark.ml.evaluation import BinaryClassificationEvaluator"
   ]
  },
  {
   "cell_type": "code",
   "execution_count": 54,
   "metadata": {},
   "outputs": [],
   "source": [
    "lr_eval = BinaryClassificationEvaluator(rawPredictionCol='prediction',\n",
    "                                       labelCol='income_Index')"
   ]
  },
  {
   "cell_type": "code",
   "execution_count": 55,
   "metadata": {},
   "outputs": [],
   "source": [
    "AUC_train = lr_eval.evaluate(train_results)\n",
    "AUC_test = lr_eval.evaluate(test_results)"
   ]
  },
  {
   "cell_type": "code",
   "execution_count": 56,
   "metadata": {},
   "outputs": [
    {
     "name": "stdout",
     "output_type": "stream",
     "text": [
      "Training accuracy for Logistic Regression is 0.7653573049612654\n",
      "Test accuracy for Logistic Regression is 0.7654543626196985\n"
     ]
    }
   ],
   "source": [
    "print(\"Training accuracy for Logistic Regression is {}\".format(AUC_train))\n",
    "print(\"Test accuracy for Logistic Regression is {}\".format(AUC_test))"
   ]
  },
  {
   "cell_type": "markdown",
   "metadata": {},
   "source": [
    "### Linear SVC"
   ]
  },
  {
   "cell_type": "code",
   "execution_count": 57,
   "metadata": {},
   "outputs": [],
   "source": [
    "from pyspark.ml.classification import LinearSVC"
   ]
  },
  {
   "cell_type": "code",
   "execution_count": 58,
   "metadata": {},
   "outputs": [],
   "source": [
    "lsvc = LinearSVC(maxIter=10, regParam=0.1,labelCol=\"income_Index\",featuresCol=\"scaledFeatures\")"
   ]
  },
  {
   "cell_type": "code",
   "execution_count": 59,
   "metadata": {},
   "outputs": [],
   "source": [
    "lsvcModel=lsvc.fit(train_data)"
   ]
  },
  {
   "cell_type": "code",
   "execution_count": 60,
   "metadata": {},
   "outputs": [
    {
     "name": "stdout",
     "output_type": "stream",
     "text": [
      "Coefficients: \n",
      "[-0.05398949212795263,-0.042739332053325335,-0.028621306157245063,-0.030755987528638645,0.054231340029988674,-0.002395048290037922,-0.004461474675371362,-0.025822317041086278,-0.02409129725042768,-0.07431102024310013,-0.040829173116395626,0.05934529474239168,0.09059722755393178,-0.00872207151916139,-0.03627057921781257,-0.004870384598170359,-0.037425823713904065,-0.04692088519296775,0.10113587002890148,-0.031638873976989765,-0.020014774609857462,0.0923644872590346,-0.028427412523941025,-0.02177526466444487,-0.019779236301192802,0.02751699882578852,-0.09520307116740967,-0.032005896974550266,-0.018486419477346683,-0.015672628089233257,-0.013920710266179828,0.19174011186534876,0.08348650123948233,-0.006031612901741015,0.003034721817812371,-0.04240443945491047,0.08292910717202932,-0.02575055753045966,-0.004101142632983752,-0.042789010725545674,-0.02951365937615953,-0.026108319739360335,-0.028699618337521177,-0.03137972735831251,0.0010295901251363949,-0.004433033665302738,-0.010118599528309466,0.03837692231770948,-0.05298717315800353,-0.05648649797520641,-0.039591897685278134,0.004414223469918464,-0.04765407662185999,-0.04058416833379731,-0.04504507523666937,-0.026345159323171302,0.0,-0.08625311550063491,-0.05451471519489705,-0.011279095849313664,-0.02103145621200016,-0.01585557463454319,-0.027276879311128106,-0.02237295112886714,-0.01706901231344983,-0.011962722777157778,-0.015535699368659618,-0.015131250672340064,-0.0298196896306742,-0.021288734696556188,-0.01117399603840857,-0.021742095353526784,-0.021538704151854028,-0.01568877994427117,-0.005532819462612705,-0.013021509738810567,-0.023803157233500682,-0.0053341743898013315,-0.016052914150596485,-0.010604209834502838,-0.013069021121182382,-0.013923259119598769,-0.010145599645204244,0.0,-0.013404299478616266,-0.011761950396212426,-0.007024767445548685,-0.005474986666287163,-0.004275500702543042,-0.012615056375288604,-0.007815971903635208,-0.0053039665674965465,4.244403387679115e-05,-0.013489528142338067,-0.007802707869687975,-0.005077497470690155,-0.005802720742252855] \n",
      "Intercept: \n",
      "-0.044285844063469915\n"
     ]
    }
   ],
   "source": [
    "print(\"Coefficients: \\n{} \\nIntercept: \\n{}\".format(lsvcModel.coefficients,lsvcModel.intercept))"
   ]
  },
  {
   "cell_type": "code",
   "execution_count": 61,
   "metadata": {},
   "outputs": [],
   "source": [
    "train_results_lsvc =lsvcModel.transform(train_data)\n",
    "test_results_lsvc = lsvcModel.transform(test_data)"
   ]
  },
  {
   "cell_type": "code",
   "execution_count": 62,
   "metadata": {},
   "outputs": [],
   "source": [
    "lsvc_eval = BinaryClassificationEvaluator(rawPredictionCol='prediction',\n",
    "                                       labelCol='income_Index')"
   ]
  },
  {
   "cell_type": "code",
   "execution_count": 63,
   "metadata": {},
   "outputs": [],
   "source": [
    "AUC_train_lsvc = lsvc_eval.evaluate(train_results)\n",
    "AUC_test_lsvc = lsvc_eval.evaluate(test_results)"
   ]
  },
  {
   "cell_type": "code",
   "execution_count": 64,
   "metadata": {},
   "outputs": [
    {
     "name": "stdout",
     "output_type": "stream",
     "text": [
      "Training accuracy for Linear support vector classifier is 0.7653573049612654\n",
      "Test accuracy for Linear support vector classifier is 0.7654543626196985\n"
     ]
    }
   ],
   "source": [
    "print(\"Training accuracy for Linear support vector classifier is {}\".format(AUC_train_lsvc))\n",
    "print(\"Test accuracy for Linear support vector classifier is {}\".format(AUC_test_lsvc))"
   ]
  },
  {
   "cell_type": "markdown",
   "metadata": {},
   "source": [
    "### Decision tree"
   ]
  },
  {
   "cell_type": "code",
   "execution_count": 65,
   "metadata": {},
   "outputs": [],
   "source": [
    "from pyspark.ml.classification import DecisionTreeClassifier\n",
    "from pyspark.ml.evaluation import MulticlassClassificationEvaluator"
   ]
  },
  {
   "cell_type": "code",
   "execution_count": 66,
   "metadata": {},
   "outputs": [],
   "source": [
    "dtree = DecisionTreeClassifier(labelCol=\"income_Index\", featuresCol=\"scaledFeatures\")"
   ]
  },
  {
   "cell_type": "code",
   "execution_count": 67,
   "metadata": {},
   "outputs": [],
   "source": [
    "dtreeModel = dtree.fit(train_data)"
   ]
  },
  {
   "cell_type": "code",
   "execution_count": 68,
   "metadata": {},
   "outputs": [],
   "source": [
    "train_results_dtree = dtreeModel.transform(train_data)"
   ]
  },
  {
   "cell_type": "code",
   "execution_count": 69,
   "metadata": {},
   "outputs": [
    {
     "name": "stdout",
     "output_type": "stream",
     "text": [
      "+----------+------------+--------------------+\n",
      "|prediction|income_Index|      scaledFeatures|\n",
      "+----------+------------+--------------------+\n",
      "|       1.0|         1.0|(97,[0,7,8,9,24,2...|\n",
      "|       0.0|         0.0|(97,[0,7,8,9,24,2...|\n",
      "|       1.0|         1.0|(97,[0,7,8,9,24,2...|\n",
      "|       1.0|         1.0|(97,[0,7,8,9,24,2...|\n",
      "|       0.0|         0.0|(97,[0,7,8,9,24,2...|\n",
      "+----------+------------+--------------------+\n",
      "only showing top 5 rows\n",
      "\n"
     ]
    }
   ],
   "source": [
    "train_results_dtree.select(\"prediction\", \"income_Index\", \"scaledFeatures\").show(5)"
   ]
  },
  {
   "cell_type": "code",
   "execution_count": 70,
   "metadata": {},
   "outputs": [],
   "source": [
    "test_results_dtree = dtreeModel.transform(test_data)"
   ]
  },
  {
   "cell_type": "code",
   "execution_count": 71,
   "metadata": {},
   "outputs": [
    {
     "name": "stdout",
     "output_type": "stream",
     "text": [
      "+----------+------------+--------------------+\n",
      "|prediction|income_Index|      scaledFeatures|\n",
      "+----------+------------+--------------------+\n",
      "|       0.0|         1.0|(97,[0,7,8,9,24,2...|\n",
      "|       0.0|         0.0|(97,[0,7,8,9,24,2...|\n",
      "|       0.0|         0.0|(97,[0,7,8,9,24,2...|\n",
      "|       0.0|         1.0|(97,[0,7,8,9,24,2...|\n",
      "|       1.0|         1.0|(97,[0,7,8,9,24,2...|\n",
      "+----------+------------+--------------------+\n",
      "only showing top 5 rows\n",
      "\n"
     ]
    }
   ],
   "source": [
    "test_results_dtree.select(\"prediction\", \"income_Index\", \"scaledFeatures\").show(5)"
   ]
  },
  {
   "cell_type": "code",
   "execution_count": 72,
   "metadata": {},
   "outputs": [],
   "source": [
    "dtree_evaluator = MulticlassClassificationEvaluator(\n",
    "    labelCol=\"income_Index\", predictionCol=\"prediction\", metricName=\"accuracy\")\n",
    "accuracy_train = dtree_evaluator.evaluate(train_results_dtree)\n",
    "accuracy_test = dtree_evaluator.evaluate(test_results_dtree)"
   ]
  },
  {
   "cell_type": "code",
   "execution_count": 73,
   "metadata": {},
   "outputs": [
    {
     "name": "stdout",
     "output_type": "stream",
     "text": [
      "Training accuracy for decision tree is 0.839551 \n",
      "Test accuracy for decision tree is 0.83959 \n"
     ]
    }
   ],
   "source": [
    "print(\"Training accuracy for decision tree is %g \" % (accuracy_train))\n",
    "print(\"Test accuracy for decision tree is %g \" % (accuracy_test))"
   ]
  },
  {
   "cell_type": "markdown",
   "metadata": {},
   "source": [
    "### Random Forest"
   ]
  },
  {
   "cell_type": "code",
   "execution_count": 74,
   "metadata": {},
   "outputs": [],
   "source": [
    "from pyspark.ml.classification import RandomForestClassifier"
   ]
  },
  {
   "cell_type": "code",
   "execution_count": 75,
   "metadata": {},
   "outputs": [],
   "source": [
    "rfc = RandomForestClassifier(labelCol=\"income_Index\", featuresCol=\"scaledFeatures\",numTrees=200,maxDepth=15)"
   ]
  },
  {
   "cell_type": "code",
   "execution_count": 76,
   "metadata": {},
   "outputs": [],
   "source": [
    "rfc_model = rfc.fit(train_data)"
   ]
  },
  {
   "cell_type": "code",
   "execution_count": 77,
   "metadata": {},
   "outputs": [],
   "source": [
    "train_results_rfc = rfc_model.transform(train_data)"
   ]
  },
  {
   "cell_type": "code",
   "execution_count": 78,
   "metadata": {},
   "outputs": [],
   "source": [
    "test_results_rfc = rfc_model.transform(test_data)"
   ]
  },
  {
   "cell_type": "code",
   "execution_count": 79,
   "metadata": {},
   "outputs": [],
   "source": [
    "rfc_evaluator = MulticlassClassificationEvaluator(\n",
    "    labelCol=\"income_Index\", predictionCol=\"prediction\", metricName=\"accuracy\")\n",
    "accuracy_rfc_train = rfc_evaluator.evaluate(train_results_rfc)\n",
    "accuracy_rfc_test = rfc_evaluator.evaluate(test_results_rfc)"
   ]
  },
  {
   "cell_type": "code",
   "execution_count": 80,
   "metadata": {},
   "outputs": [
    {
     "name": "stdout",
     "output_type": "stream",
     "text": [
      "Training accuracy for Random forest with 200 trees is 0.876151 \n",
      "Trest accuracy for Random forest with 200 trees is 0.853693 \n"
     ]
    }
   ],
   "source": [
    "\n",
    "print(\"Training accuracy for Random forest with 200 trees is %g \" % (accuracy_rfc_train))\n",
    "print(\"Trest accuracy for Random forest with 200 trees is %g \" % (accuracy_rfc_test))"
   ]
  },
  {
   "cell_type": "markdown",
   "metadata": {},
   "source": [
    "### Gradient Boost Classifier"
   ]
  },
  {
   "cell_type": "code",
   "execution_count": 81,
   "metadata": {},
   "outputs": [],
   "source": [
    "from pyspark.ml.classification import GBTClassifier"
   ]
  },
  {
   "cell_type": "code",
   "execution_count": 82,
   "metadata": {},
   "outputs": [],
   "source": [
    "gbt = GBTClassifier(labelCol=\"income_Index\", featuresCol=\"scaledFeatures\",maxDepth=15)"
   ]
  },
  {
   "cell_type": "code",
   "execution_count": 83,
   "metadata": {},
   "outputs": [],
   "source": [
    "gbtModel=gbt.fit(train_data)"
   ]
  },
  {
   "cell_type": "code",
   "execution_count": 84,
   "metadata": {},
   "outputs": [],
   "source": [
    "train_results_gbt = gbtModel.transform(train_data)"
   ]
  },
  {
   "cell_type": "code",
   "execution_count": 85,
   "metadata": {},
   "outputs": [],
   "source": [
    "test_results_gbt = gbtModel.transform(test_data)"
   ]
  },
  {
   "cell_type": "code",
   "execution_count": 86,
   "metadata": {},
   "outputs": [],
   "source": [
    "gbt_evaluator = MulticlassClassificationEvaluator(\n",
    "    labelCol=\"income_Index\", predictionCol=\"prediction\", metricName=\"accuracy\")\n",
    "accuracy_gbt_train = gbt_evaluator.evaluate(train_results_gbt)\n",
    "accuracy_gbt_test = gbt_evaluator.evaluate(test_results_gbt)"
   ]
  },
  {
   "cell_type": "code",
   "execution_count": 87,
   "metadata": {},
   "outputs": [
    {
     "name": "stdout",
     "output_type": "stream",
     "text": [
      "Training accuracy for gradient boosted tree is 0.960141 \n",
      "Test accuracy for gradient boosted tree  0.829343 \n"
     ]
    }
   ],
   "source": [
    "print(\"Training accuracy for gradient boosted tree is %g \" % (accuracy_gbt_train))\n",
    "print(\"Test accuracy for gradient boosted tree  %g \" % (accuracy_gbt_test))"
   ]
  },
  {
   "cell_type": "code",
   "execution_count": null,
   "metadata": {},
   "outputs": [],
   "source": []
  }
 ],
 "metadata": {
  "kernelspec": {
   "display_name": "Python 3",
   "language": "python",
   "name": "python3"
  },
  "language_info": {
   "codemirror_mode": {
    "name": "ipython",
    "version": 3
   },
   "file_extension": ".py",
   "mimetype": "text/x-python",
   "name": "python",
   "nbconvert_exporter": "python",
   "pygments_lexer": "ipython3",
   "version": "3.7.4"
  }
 },
 "nbformat": 4,
 "nbformat_minor": 2
}
